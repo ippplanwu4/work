{
  "nbformat": 4,
  "nbformat_minor": 0,
  "metadata": {
    "colab": {
      "name": "lab3_Lapshenkova_MOZIiIB.ipynb",
      "provenance": [],
      "collapsed_sections": []
    },
    "kernelspec": {
      "name": "python3",
      "display_name": "Python 3"
    },
    "language_info": {
      "name": "python"
    }
  },
  "cells": [
    {
      "cell_type": "code",
      "metadata": {
        "colab": {
          "base_uri": "https://localhost:8080/"
        },
        "id": "7YAFb9oJh-F2",
        "outputId": "8d2c1778-38ed-4e03-c8f6-4f758399f4d8"
      },
      "source": [
        "alphabet=\"АБВГДЕЖЗИЙКЛМНОПРСТУФХЦЧШЩЪЫЬЭЮЯ\"#задаем алфавит\n",
        "alphabet_list=list(alphabet)#сделали алфавит списком\n",
        "N=len(alphabet)#ввели размер алфавита\n",
        "slovo=\"ПРИКАЗ\"\n",
        "key=\"ГАММА\"\n",
        "index_slovo=[]#ввели списки для индексов\n",
        "index_key=[]#ввели списки для индексов\n",
        "'''\n",
        "Находим индексы в соответствии с алфавитом\n",
        "'''\n",
        "for i1 in slovo:\n",
        "  index_slovo.append(alphabet.find(i1))\n",
        "for i2 in key:\n",
        "  index_key.append(alphabet.find(i2))\n",
        "'''\n",
        "Находим индексы в соответствии с алфавитом (+смещение на 1 (из-за питона))\n",
        "'''\n",
        "index_slovo_1=[]\n",
        "index_key_1=[]\n",
        "for j1 in range (0,len(index_slovo)):\n",
        "  index_slovo_1.append(index_slovo[j1]+1)\n",
        "\n",
        "for j2 in range (0,len(index_key)):\n",
        "  index_key_1.append(index_key[j2]+1)\n",
        "'''\n",
        "Нахождение индексов букв будущего шифра (первые k символов, где k-длина ключа)\n",
        "'''\n",
        "ciphered_text_indexes=[]#ввели список для индексов будущего шифра\n",
        "for l in range(len(index_key_1)):\n",
        "  ciphered_text_indexes.append(index_slovo_1[l]+(index_key_1[l])%N)\n",
        "'''\n",
        "Поиск новых индексов для шифра\n",
        "'''\n",
        "difference=len(index_slovo_1)-len(index_key_1)#ввели разницу в длине \n",
        "index_key_2=0#ввели индекс символа ключа, с которого будем начинать\n",
        "index_slovo_2=len(index_key_1)#ввели индекс символа слова, с которого будем начинать\n",
        "while difference>0:\n",
        "  ciphered_text_indexes.append(index_slovo_1[index_slovo_2]+(index_key_1[index_key_2])%N)\n",
        "  difference=difference-1\n",
        "  index_key_2+=1\n",
        "  index_slovo_2=index_slovo_2-1\n",
        "  if index_key_2==len(index_key_1):\n",
        "    index_key_2=0\n",
        "#ВНИМАНИЕ! ДЛЯ ТОГО, ЧТОБЫ СХОДИЛОСЬ С ОТВЕТОМ, \n",
        "#ДАННЫМ В ЛАБОРАТОРНОЙ РАБОТЕ НЕОБХОДИМО ВЗЯТЬ АЛАВИТ БЕЗ БУКВЫ Ё (т.е. 32 символа)\n",
        "'''\n",
        "Поиск шифра с помощью полученных индексов и алфавита\n",
        "'''\n",
        "cipered_text=[]\n",
        "for i in range(len(ciphered_text_indexes)):\n",
        "  cipered_text.append(alphabet_list[ciphered_text_indexes[i]-1])#вспомнили что в питоне индексация с 1!\n",
        "print(ciphered_text_indexes)\n",
        "print('Криптограмма:\"',\"\".join(cipered_text),'\"')\n"
      ],
      "execution_count": 1,
      "outputs": [
        {
          "output_type": "stream",
          "name": "stdout",
          "text": [
            "[20, 18, 22, 24, 2, 12]\n",
            "Криптограмма:\" УСХЧБЛ \"\n"
          ]
        }
      ]
    }
  ]
}