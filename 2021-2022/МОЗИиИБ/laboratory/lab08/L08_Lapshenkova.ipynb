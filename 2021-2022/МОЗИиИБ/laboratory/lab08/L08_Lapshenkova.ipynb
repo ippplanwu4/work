{
  "nbformat": 4,
  "nbformat_minor": 0,
  "metadata": {
    "colab": {
      "name": "L08_Lapshenkova.ipynb",
      "provenance": []
    },
    "kernelspec": {
      "name": "python3",
      "display_name": "Python 3"
    },
    "language_info": {
      "name": "python"
    }
  },
  "cells": [
    {
      "cell_type": "code",
      "source": [
        "import math"
      ],
      "metadata": {
        "id": "FbfrFYGEosqw"
      },
      "execution_count": 1,
      "outputs": []
    },
    {
      "cell_type": "code",
      "source": [
        "#создаем словарь 1 (символ строки = аналоги в числ. форме)\n",
        "str2num = {chr(letter_ord) : (letter_ord - ord(\"A\") + 10) for letter_ord in range(ord(\"A\"), ord(\"Z\") + 1)}\n",
        "for ciphra in \"0123456789\":\n",
        "  str2num[ciphra]=int(ciphra)\n",
        "#создаем словарь 2 (число = строковый аналог)\n",
        "num2str={value:key for (key,value)in str2num.items()}\n",
        "\n",
        "def add_0(u, n, array = False):\n",
        "  '''\n",
        "  Функция, отвечающая за добавление нулей к числу u до размерности n\n",
        "  array=True если u-массив чисел\n",
        "  '''\n",
        "  result=[0]*(n-len(u))\n",
        "  if array:\n",
        "    result.extend(u)\n",
        "    return result\n",
        "  return \"\".join([str(i) for i in result])+u"
      ],
      "metadata": {
        "id": "WN3iGKZ0o_2E"
      },
      "execution_count": 2,
      "outputs": []
    },
    {
      "cell_type": "markdown",
      "source": [
        "# Алгоритм 1\n"
      ],
      "metadata": {
        "id": "F-eApjN7ouYH"
      }
    },
    {
      "cell_type": "code",
      "source": [
        "def algorythm_1(u_s,v_s,b):\n",
        "  '''\n",
        "  Сложение неотрицательных целых чисел\n",
        "  '''\n",
        "  #представить u и v в виде массивов чисел\n",
        "  u=[str2num[letter]for letter in u_s]\n",
        "  v=[str2num[letter]for letter in v_s]\n",
        "  #проверка на совпадение разрядностей чисел\n",
        "  if len(u)!=len(v):\n",
        "    #добавить к меньшему нули \n",
        "    if len(u)<len(v):\n",
        "      u=add_0(u, len(v), True)\n",
        "    else:\n",
        "      v=add_0(v, len(u), True)\n",
        "  #шаг 1\n",
        "  n=len(u)#разрядность числа\n",
        "  k=0#счетчик, который отвечает за перенос\n",
        "  w=[]#будущая сумма\n",
        "\n",
        "  for j in range(n-1, -1, -1):\n",
        "    '''\n",
        "    шаги 2-3\n",
        "    '''\n",
        "    w.append((u[j]+v[j]+k)%b)\n",
        "    k=math.floor((u[j]+v[j]+k)/b)\n",
        "  #шаг 3\n",
        "  w.append(k)\n",
        "  w.reverse()#записываем массив в обратном порядке\n",
        "  return \"\".join([num2str[ciphra] for ciphra in w]) #массив в строку"
      ],
      "metadata": {
        "id": "iJfejea7r0QR"
      },
      "execution_count": 3,
      "outputs": []
    },
    {
      "cell_type": "code",
      "source": [
        "print(algorythm_1(\"321\",\"1567\",10))\n",
        "print(algorythm_1(\"B007\",\"MI6\",10))"
      ],
      "metadata": {
        "colab": {
          "base_uri": "https://localhost:8080/"
        },
        "id": "2_PLP_i5uLfZ",
        "outputId": "4c746287-1824-4568-eb1c-2a61b279f29c"
      },
      "execution_count": 4,
      "outputs": [
        {
          "output_type": "stream",
          "name": "stdout",
          "text": [
            "01888\n",
            "13393\n"
          ]
        }
      ]
    },
    {
      "cell_type": "markdown",
      "source": [
        "# Алгоритм 2"
      ],
      "metadata": {
        "id": "J-coHLaOmN0Q"
      }
    },
    {
      "cell_type": "code",
      "source": [
        "def algorythm_2(u_s,v_s,b):\n",
        "  '''\n",
        "  Вычитание неотрицательных целых чисел\n",
        "  '''\n",
        "  #представить u и v в виде массивов чисел\n",
        "  u=[str2num[letter]for letter in u_s]\n",
        "  v=[str2num[letter]for letter in v_s] \n",
        "  #проверка на совпадение разрядностей чисел\n",
        "  if len(u)!=len(v):\n",
        "    #добавить к меньшему нули \n",
        "    if len(u)<len(v):\n",
        "      u=add_0(u, len(v), True)\n",
        "    else:\n",
        "      v=add_0(v, len(u), True)\n",
        "  elif u<v:#проверка на удовлетворение условию задачи\n",
        "    return \"u должно быть больше v\"\n",
        "  #шаг1\n",
        "  n=len(u)#разрядность числа\n",
        "  k=0#счетчик, который отвечает за перенос\n",
        "  w=[]#будущая сумма\n",
        "  for j in range(n-1, -1, -1):\n",
        "    '''\n",
        "    шаги 2-3\n",
        "    '''\n",
        "    w.append((u[j]-v[j]+k)%b)\n",
        "    k=math.floor((u[j]-v[j]+k)/b)\n",
        "  w.reverse()#записываем массив в обратном порядке\n",
        "  return \"\".join([num2str[ciphra] for ciphra in w]) #массив в строку"
      ],
      "metadata": {
        "id": "TesDUhv-ujrt"
      },
      "execution_count": 5,
      "outputs": []
    },
    {
      "cell_type": "code",
      "source": [
        "print(algorythm_2(\"789\",\"111\",10))"
      ],
      "metadata": {
        "colab": {
          "base_uri": "https://localhost:8080/"
        },
        "id": "YZeQDm8HwB4V",
        "outputId": "3b2ea5f4-4266-4c65-825d-635b1133a459"
      },
      "execution_count": 6,
      "outputs": [
        {
          "output_type": "stream",
          "name": "stdout",
          "text": [
            "678\n"
          ]
        }
      ]
    },
    {
      "cell_type": "markdown",
      "source": [
        "# Алгоритм 3"
      ],
      "metadata": {
        "id": "xvZqprV4mryp"
      }
    },
    {
      "cell_type": "code",
      "source": [
        "def algorythm_3(u_s,v_s,b):\n",
        "  '''\n",
        "  Умножение неотрицательных чисел столбиком\n",
        "  '''\n",
        "  #представить u и v в виде массивов чисел\n",
        "  u=[str2num[letter]for letter in u_s]\n",
        "  v=[str2num[letter]for letter in v_s] \n",
        "  #выписали разрядности для u и для v\n",
        "  n=len(u)\n",
        "  m=len(v)\n",
        "  #произведение\n",
        "  w=[0]*(m+n)\n",
        "  for j in range(m-1, -1, -1):\n",
        "    if v[j]!=0:\n",
        "      k=0#шаг3\n",
        "      for i in range (n-1, -1, -1):\n",
        "        t=u[i]*v[j]+w[i+j+1]+k\n",
        "        w[i+j+1]=t%b\n",
        "        k=math.floor(t/b)\n",
        "      w[j]=k#шаг 5\n",
        "  return \"\".join([num2str[ciphra] for ciphra in w]) #массив в строку"
      ],
      "metadata": {
        "id": "swjbFhU5wht-"
      },
      "execution_count": 11,
      "outputs": []
    },
    {
      "cell_type": "code",
      "source": [
        "print(algorythm_3(\"777\",\"1234\",10))"
      ],
      "metadata": {
        "colab": {
          "base_uri": "https://localhost:8080/"
        },
        "id": "0djYdQUExys7",
        "outputId": "fb64ff08-f5d9-448b-edd9-35b6998e680e"
      },
      "execution_count": 12,
      "outputs": [
        {
          "output_type": "stream",
          "name": "stdout",
          "text": [
            "0958818\n"
          ]
        }
      ]
    },
    {
      "cell_type": "markdown",
      "source": [
        "# Алгоритм 4"
      ],
      "metadata": {
        "id": "BBxkS2p9ooWp"
      }
    },
    {
      "cell_type": "code",
      "source": [
        "def algorythm_4(u_s,v_s,b):\n",
        "  '''\n",
        "  Быстрый столбик\n",
        "  '''\n",
        "  #представить u и v в виде массивов чисел\n",
        "  u=[str2num[letter]for letter in u_s]\n",
        "  v=[str2num[letter]for letter in v_s] \n",
        "  #выписали разрядности для u и для v\n",
        "  n=len(u)\n",
        "  m=len(v)\n",
        "  #произведение\n",
        "  w=[0]*(m+n)\n",
        "\n",
        "  t=0#шаг1\n",
        "  for s in range(0,m+n):\n",
        "    '''\n",
        "    шаг2\n",
        "    '''\n",
        "    for i in range (0,s+1):\n",
        "      if (0<=n-i-1<n) and (0<=m-s+i-1<m): #шаг3\n",
        "        t=t+u[n-i-1]*v[m-s+i-1]\n",
        "    w[m+n-s-1]=t%b\n",
        "    t=math.floor(t/b)#шаг 4\n",
        "  return \"\".join([num2str[ciphra] for ciphra in w]) #массив в строку\n"
      ],
      "metadata": {
        "id": "kCykMPz3yDt7"
      },
      "execution_count": 13,
      "outputs": []
    },
    {
      "cell_type": "code",
      "source": [
        "print(algorythm_3(\"777\",\"1234\",10))"
      ],
      "metadata": {
        "colab": {
          "base_uri": "https://localhost:8080/"
        },
        "id": "eUmnkImIzl47",
        "outputId": "84bc629c-d464-4ea0-fea1-8e8756cd12c8"
      },
      "execution_count": 14,
      "outputs": [
        {
          "output_type": "stream",
          "name": "stdout",
          "text": [
            "0958818\n"
          ]
        }
      ]
    },
    {
      "cell_type": "markdown",
      "source": [
        "# Алгоритм 5"
      ],
      "metadata": {
        "id": "mFIxHK6popZX"
      }
    },
    {
      "cell_type": "code",
      "source": [
        "def to10(u_str, b, array = False):\n",
        "    \"\"\"\n",
        "    Переводит число в десятичную систему исчисления\n",
        "    array = True, если число u- массив чисел\n",
        "    \"\"\"\n",
        "    u_array = u_str if array else [str2num[letter] for letter in u_str]\n",
        "    u = 0\n",
        "    for i in range(len(u_array)):\n",
        "        u += (b ** i) * u_array[len(u_array) - i - 1]\n",
        "    return u\n",
        "\n",
        "def to_b(number, b, n = 1):\n",
        "    \"\"\"\n",
        "    Переводит десятичное число в систему счисления с основанием b\n",
        "    n - минимальная разрядность результирующей записи числа    \n",
        "    \"\"\"\n",
        "    # будем последовательно делить number на b и сохранять остатки\n",
        "    # q - очередное частое, r - очередной остаток\n",
        "    # w - результат, в который поелсдовательно записываем остатки \n",
        "    (q, r) = (math.floor(number / b), number % b)\n",
        "    w = num2str[r]\n",
        "\n",
        "    # пока частоное больше основания системы счисления\n",
        "    while q >= b:\n",
        "        # продолжаем деление\n",
        "        (q, r) = (math.floor(q / b), q % b)\n",
        "        w = w + num2str[r]\n",
        "\n",
        "    # если частное ненулевое, тоже добавляем его в результат\n",
        "    if q != 0: w = w + num2str[q]\n",
        "\n",
        "    # если разрядность меньше желаемой..\n",
        "    while len(w) < n:\n",
        "        # добавляем ведущие нули\n",
        "        w = w + \"0\"\n",
        "    \n",
        "    # записываем число в обратном порядке\n",
        "    return w[::-1]\n",
        "\n",
        "def trim_zero(a):\n",
        "    while a[0] == '0' and len(a) > 1:\n",
        "        a = a[1:]\n",
        "    return a\n",
        "def algorythm_5(u_str, v_str, b):\n",
        "    \"\"\"\n",
        "    деление многоразрядных целых чисел\n",
        "    Производит деление целых неотрицательных чисел, \n",
        "    Результат: (q, r), где q - частное, r - остаток\n",
        "    \"\"\"\n",
        "    u = u_str\n",
        "    v = v_str \n",
        "    u_10 = to10(u, b)\n",
        "    v_10 = to10(v, b)\n",
        "    n = len(u) - 1 # разрядности чисел\n",
        "    t = len(v) - 1 # разрядности чисел\n",
        "\n",
        "    # проверка условий\n",
        "    if v[0] == 0 or not (n >= t >= 1):\n",
        "        return \"Некорректные входные данные\"\n",
        "\n",
        "    q = [0] * (n - t + 1) # шаг 1\n",
        "\n",
        "    while u_10 >= v_10 * (b ** (n - t)): #\n",
        "        q[n - t] = q[n - t] + 1\n",
        "        u_10 -= v_10 * b ** (n - t)\n",
        "\n",
        "    u = to_b(u_10, b, n + 1)\n",
        "    \n",
        "    # переводим числа в вид массивов\n",
        "    u = [str2num[letter] for letter in u]\n",
        "    v = [str2num[letter] for letter in v_str]\n",
        "\n",
        "    for i in range(n, t, -1): # шаг 3\n",
        "        if u[n - i] >= v[0]:       #\n",
        "            q[i - t - 1] = b - 1   # шаг 3.1.\n",
        "        else:                      #\n",
        "            q[i - t - 1] = math.floor((u[n - i] * b + u[n - i + 1]) / v[0])\n",
        "\n",
        "        # шаг 3.2\n",
        "        while q[i - t - 1] * (v[0] * b + v[1]) > u[n - i] * (b ** 2) + u[n - i + 1] * b + u[n - i + 2]:\n",
        "            q[i - t - 1] = q[i - t - 1] - 1\n",
        "        \n",
        "        u_10 = to10(u, b, True)                           # шаг 3.3\n",
        "        u_10 -= v_10 * q[i - t - 1] * (b ** (i - t - 1))  # \n",
        "\n",
        "        if u_10 < 0:                            #\n",
        "            u_10 += v_10 * (b ** (i - t - 1))   # шаг 3.4\n",
        "            q[i - t - 1] -= 1                   #\n",
        "\n",
        "        # возвращаем число u в систему с основанием b\n",
        "        u = to_b(u_10, b, n + 1); u = [str2num[letter] for letter in u]\n",
        "\n",
        "    # преобразуем массивы обратно в строки\n",
        "    (q, r) = (\"\".join([num2str[digit] for digit in q]), \"\".join([num2str[digit] for digit in u]))\n",
        "\n",
        "    # удаляем ведущие нули и записываем частное в обратном порядке\n",
        "    return (trim_zero(q[::-1]), trim_zero(r))"
      ],
      "metadata": {
        "id": "-TH8-izezwGE"
      },
      "execution_count": 19,
      "outputs": []
    },
    {
      "cell_type": "code",
      "source": [
        "print(algorythm_5(\"1000\", \"15\", 10))"
      ],
      "metadata": {
        "colab": {
          "base_uri": "https://localhost:8080/"
        },
        "id": "qgcbkDGr3yOa",
        "outputId": "47e058b3-70b0-403e-f2ed-c4c00c248bd2"
      },
      "execution_count": 20,
      "outputs": [
        {
          "output_type": "stream",
          "name": "stdout",
          "text": [
            "('66', '10')\n"
          ]
        }
      ]
    }
  ]
}