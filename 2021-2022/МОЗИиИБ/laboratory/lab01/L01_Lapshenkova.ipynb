{
 "cells": [
  {
   "cell_type": "code",
   "execution_count": 1,
   "metadata": {},
   "outputs": [],
   "source": [
    "import numpy #импортируем необх. библиотеку"
   ]
  },
  {
   "cell_type": "code",
   "execution_count": 10,
   "metadata": {},
   "outputs": [
    {
     "name": "stdout",
     "output_type": "stream",
     "text": [
      "Введите k:3\n",
      "Введите фразу для зашифровки:veni,vidi,vici!\n",
      "Зашифрованная фраза: yhql,ylgl,ylfl!\n"
     ]
    }
   ],
   "source": [
    "def tsezar_code():\n",
    "    alphabet_kir=\"абвгдежзийклмнопрстуфхцчшщъыьэюя\"#задаем алфавит\n",
    "    alphabet_latin=\"abcdefghijklmnopqrstuvwxyz\"#задаем алфавит\n",
    "    k=input('Введите k:',)#просим пользователя ввести k\n",
    "    k=int(k)#делаем k интовым\n",
    "    phrase=input('Введите фразу для зашифровки:',)#просим пользователя ввести фразу для зашифровки\n",
    "    new_phrase=\"\"#задали пустую строку для шифра\n",
    "    for i in phrase:#прогоняем фразу посимвольно\n",
    "        if (i==\" \") or (i==\".\") or (i==\",\") or (i==\"!\") or (i==\"?\") or (i==\":\") or (i==\";\") or (i==\"-\"):#проверка условия на наличие определеннных символов\n",
    "            new_phrase=new_phrase+i#прибавление символа без изменения к шифру\n",
    "            continue #переход к следующему прогону цикла\n",
    "        if ((phrase[0] in alphabet_latin) or (phrase[1] in alphabet_latin) or (phrase[2] in alphabet_latin)):#проверка на алфавит\n",
    "            index=alphabet_latin.find(i)#определяем индекс для буквы из фразы в алфавите\n",
    "            index=int(index)#делаем интовым\n",
    "            jindex=(index+k)%(len(alphabet_latin))#расчет нового индекса для шифровки\n",
    "            new_phrase=new_phrase+alphabet_latin[jindex]#создание шифра\n",
    "        else:#проверка на алфавит\n",
    "            index=alphabet_kir.find(i)#определяем индекс для буквы из фразы в алфавите\n",
    "            index=int(index)#делаем интовым\n",
    "            jindex=(index+k)%(len(alphabet_kir))#расчет нового индекса для шифровки\n",
    "            new_phrase=new_phrase+alphabet_kir[jindex]#создание шифра\n",
    "    print('Зашифрованная фраза:',new_phrase)#вывод шифра\n",
    "tsezar_code()#запуск функции"
   ]
  },
  {
   "cell_type": "code",
   "execution_count": 14,
   "metadata": {},
   "outputs": [
    {
     "name": "stdout",
     "output_type": "stream",
     "text": [
      "Введите фразу для зашифровки:abcd\n",
      "Зашифрованная фраза:  zyx\n"
     ]
    }
   ],
   "source": [
    "def atbash_code():\n",
    "    alphabet_kir_2=\"абвгдежзийклмнопрстуфхцчшщъыьэюя \"#задаем алфавит с пробелом\n",
    "    alphabet_latin_2=\"abcdefghijklmnopqrstuvwxyz \"#задаем алфавит с пробелом \n",
    "    rev_alphabet_kir_2=alphabet_kir_2[::-1]#все элементы списка в обратном порядке\n",
    "    rev_alphabet_latin_2=alphabet_latin_2[::-1]#все элементы списка в обратном порядке\n",
    "    phrase=input('Введите фразу для зашифровки:',)#просим пользователя ввести фразу для зашифровки\n",
    "    new_phrase=\"\"#задали пустую строку для шифра\n",
    "    for i in phrase:#прогоняем фразу посимвольно\n",
    "        if ((phrase[0] in alphabet_latin_2) or (phrase[1] in alphabet_latin_2) or (phrase[2] in alphabet_latin_2)):#проверка на алфавит\n",
    "            index=alphabet_latin_2.find(i)#определяем индекс для буквы из фразы в алфавите\n",
    "            new_phrase=new_phrase+rev_alphabet_latin_2[index]#создание шифра с помощью реверснутого алфавита\n",
    "        else:\n",
    "            index=alphabet_kir_2.find(i)#определяем индекс для буквы из фразы в алфавите\n",
    "            new_phrase=new_phrase+rev_alphabet_kir_2[index]#создание шифра с помощью реверснутого алфавита\n",
    "    print('Зашифрованная фраза:',new_phrase)#вывод шифра\n",
    "atbash_code()"
   ]
  },
  {
   "cell_type": "code",
   "execution_count": null,
   "metadata": {},
   "outputs": [],
   "source": []
  }
 ],
 "metadata": {
  "kernelspec": {
   "display_name": "Python 3",
   "language": "python",
   "name": "python3"
  },
  "language_info": {
   "codemirror_mode": {
    "name": "ipython",
    "version": 3
   },
   "file_extension": ".py",
   "mimetype": "text/x-python",
   "name": "python",
   "nbconvert_exporter": "python",
   "pygments_lexer": "ipython3",
   "version": "3.7.6"
  }
 },
 "nbformat": 4,
 "nbformat_minor": 4
}
