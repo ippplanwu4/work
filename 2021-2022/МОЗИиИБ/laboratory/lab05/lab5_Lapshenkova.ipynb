{
  "nbformat": 4,
  "nbformat_minor": 0,
  "metadata": {
    "colab": {
      "name": "lab5_Lapshenkova.ipynb",
      "provenance": [],
      "collapsed_sections": []
    },
    "kernelspec": {
      "name": "python3",
      "display_name": "Python 3"
    },
    "language_info": {
      "name": "python"
    }
  },
  "cells": [
    {
      "cell_type": "code",
      "execution_count": 4,
      "metadata": {
        "id": "cmry0QVPjSML"
      },
      "outputs": [],
      "source": [
        "#ОБЩИЙ СЛУЧАЙ\n",
        "#вообще говоря, число a задается случайно (в зависимости от алгоритма)\n",
        "a=12\n",
        "n=17#должно удовлетворять определенным условиям (в зависимости от алгоритма)"
      ]
    },
    {
      "cell_type": "code",
      "source": [
        "def test_ferma(a,n):\n",
        "  '''\n",
        "  Функция, реализующая тест Ферма по соотв. алгоритму\n",
        "  '''\n",
        "  r=(a**(n-1))%n\n",
        "  if r==1:\n",
        "    print('Число n=',n,', вероятно, ПРОСТОЕ')\n",
        "  else:\n",
        "    print('Число n=',n,', вероятно, СОСТАВНОЕ')\n",
        "test_ferma(a,n)"
      ],
      "metadata": {
        "colab": {
          "base_uri": "https://localhost:8080/"
        },
        "id": "UK4x8Q2mkZ8d",
        "outputId": "fb9c9674-0343-47c4-9526-d4df1ffb4516"
      },
      "execution_count": 5,
      "outputs": [
        {
          "output_type": "stream",
          "name": "stdout",
          "text": [
            "Число n= 17 , вероятно, ПРОСТОЕ\n"
          ]
        }
      ]
    },
    {
      "cell_type": "code",
      "source": [
        "def primefactors(n):\n",
        "  '''\n",
        "  Функция для расчета k,a1 \n",
        "  (предварительно разложить число на множители с использованием 2)\n",
        "  '''\n",
        "  list_2=[]\n",
        "  m=n\n",
        "\n",
        "  while m%2==0:\n",
        "    list_2.append(2)\n",
        "    m=m/2\n",
        "  k=len(list_2)\n",
        "  a1=int(n/(2**k))\n",
        "  return k,a1\n",
        "\n",
        "def Jakobi_symbol(a,n):\n",
        "  '''\n",
        "  Функция, реализующая поиск символа Якоби по соотв. алгоритму\n",
        "  '''\n",
        "  g=1\n",
        "  while True:\n",
        "    if a==0:\n",
        "      res=0\n",
        "      break\n",
        "    if a==1:\n",
        "      res=g\n",
        "      break\n",
        "    else:\n",
        "      k=primefactors(a)[0]\n",
        "      a1=primefactors(a)[1]\n",
        "      if k%2==0:\n",
        "        s=1\n",
        "      if k%2!=0:\n",
        "        if (((n-1)%8==0)or((n+1)%8==0)):\n",
        "          s=1\n",
        "        if (((n-3)%8==0)or((n+3)%8==0)):\n",
        "          s=-1\n",
        "    if a1==1:\n",
        "      res=g*s\n",
        "      break\n",
        "\n",
        "    if ((n-3)%4==0) and ((a1-3)%4==0):\n",
        "      s=-s\n",
        "    a=n%a1\n",
        "    n=a1\n",
        "    g=g*s\n",
        "  return res\n",
        "\n",
        "Jakobi_symbol(a,n)"
      ],
      "metadata": {
        "colab": {
          "base_uri": "https://localhost:8080/"
        },
        "id": "ZWaV1Wy_Do3M",
        "outputId": "c9211ba1-d81f-4593-82df-a57a6beddb03"
      },
      "execution_count": 6,
      "outputs": [
        {
          "output_type": "execute_result",
          "data": {
            "text/plain": [
              "-1"
            ]
          },
          "metadata": {},
          "execution_count": 6
        }
      ]
    },
    {
      "cell_type": "code",
      "source": [
        "def solovey_strassen(a,n):\n",
        "  '''\n",
        "  Функция, реализующая тест Соловэя-Штрассена\n",
        "  '''\n",
        "  r=(a**((n-1)/2))%n\n",
        "  if (r!=1) and (r!=n-1):\n",
        "    print('Число n=',n,'СОСТАВНОЕ')\n",
        "  s=Jakobi_symbol(a,n)\n",
        "  if ((r-s)%n!=0):\n",
        "    print('Число n=',n,'СОСТАВНОЕ')\n",
        "  else:\n",
        "    print('Число n=',n,', вероятно, ПРОСТОЕ')\n",
        "solovey_strassen(a,n)"
      ],
      "metadata": {
        "colab": {
          "base_uri": "https://localhost:8080/"
        },
        "id": "8f8bfJ0CLzZr",
        "outputId": "ae669dac-f1bc-48b8-e642-10844b43b9f8"
      },
      "execution_count": 7,
      "outputs": [
        {
          "output_type": "stream",
          "name": "stdout",
          "text": [
            "Число n= 17 , вероятно, ПРОСТОЕ\n"
          ]
        }
      ]
    },
    {
      "cell_type": "code",
      "source": [
        "def miller_rabin(a,n):\n",
        "  '''\n",
        "  Функция, реализующая тест Миллера-Рабина\n",
        "  '''\n",
        "  s=primefactors(n-1)[0]\n",
        "  r=primefactors(n-1)[1]\n",
        "  y=(a**r)%n\n",
        "  if (y!=1) and (y!=n-1):\n",
        "    j=1\n",
        "    while (j<=s-1) and (y!=n-1):\n",
        "      y=(y**2)%n\n",
        "      if y==1:\n",
        "        return'Число n=',n,'СОСТАВНОЕ'\n",
        "      j=j+1\n",
        "    if (y!=n-1):\n",
        "      return'Число n=',n,'СОСТАВНОЕ'\n",
        "  return 'Число n=',n,', вероятно, ПРОСТОЕ'\n",
        "miller_rabin(a,n)"
      ],
      "metadata": {
        "colab": {
          "base_uri": "https://localhost:8080/"
        },
        "id": "CGLGR7a-35r2",
        "outputId": "0d22fa45-f625-4964-9ebf-04c3bcba9398"
      },
      "execution_count": 8,
      "outputs": [
        {
          "output_type": "execute_result",
          "data": {
            "text/plain": [
              "('Число n=', 17, ', вероятно, ПРОСТОЕ')"
            ]
          },
          "metadata": {},
          "execution_count": 8
        }
      ]
    }
  ]
}