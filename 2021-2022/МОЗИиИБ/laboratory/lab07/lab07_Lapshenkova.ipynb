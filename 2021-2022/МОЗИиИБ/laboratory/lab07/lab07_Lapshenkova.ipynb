{
  "nbformat": 4,
  "nbformat_minor": 0,
  "metadata": {
    "colab": {
      "name": "lab07_Lapshenkova",
      "provenance": []
    },
    "kernelspec": {
      "name": "python3",
      "display_name": "Python 3"
    },
    "language_info": {
      "name": "python"
    }
  },
  "cells": [
    {
      "cell_type": "code",
      "execution_count": 11,
      "metadata": {
        "id": "y-XeALUyIAlG"
      },
      "outputs": [],
      "source": [
        "def f(c,u,v):\n",
        "  '''\n",
        "  Ввели функцию, завис. от c,u,v\n",
        "  '''\n",
        "  if c<53:\n",
        "    return 10*c%107,u+1,v\n",
        "  else:\n",
        "    return 64*c%107,u,v+1"
      ]
    },
    {
      "cell_type": "code",
      "source": [
        "def rasshir_algorithm_Evklida(a,b):\n",
        "  '''\n",
        "  расширенный алгоритм Евклида\n",
        "  '''\n",
        "  r=[]\n",
        "  x=[]\n",
        "  y=[]\n",
        "  r.append(a)\n",
        "  r.append(b)\n",
        "  x.append(1)\n",
        "  x.append(0)\n",
        "  y.append(0)\n",
        "  y.append(1)\n",
        "  i=1\n",
        "  while r[i]!=0:\n",
        "    i+=1\n",
        "    r.append(r[i-2]%r[i-1])\n",
        "    if r[i]==0:\n",
        "      d=r[i-1]\n",
        "      x=x[i-1]\n",
        "      y=y[i-1]\n",
        "    else:\n",
        "      x.append(x[i-2]-((r[i-2]//r[i-1])*x[i-1]))\n",
        "      y.append(y[i-2]-((r[i-2]//r[i-1])*y[i-1]))\n",
        "  return d,x,y"
      ],
      "metadata": {
        "id": "zw979r6_R4Ri"
      },
      "execution_count": 12,
      "outputs": []
    },
    {
      "cell_type": "code",
      "source": [
        "def Pollard(p,a,r,b,u,v):\n",
        "  '''\n",
        "  Метод Полларда для логарифмирования в конечном поле\n",
        "  '''\n",
        "  c=a**u*b**v%p\n",
        "  d=c\n",
        "  uc=u\n",
        "  vc=v\n",
        "  ud=u\n",
        "  vd=v\n",
        "  c,uc,vc=f(c,uc,vc)\n",
        "  c%=p\n",
        "  d,ud,vd=f(*f(d,ud,vd))\n",
        "  d%=p\n",
        "\n",
        "  while c%p!=d%p:\n",
        "    '''\n",
        "    условие работы цикла\n",
        "    '''\n",
        "    c,uc,vc=f(c,uc,vc)\n",
        "    c%=p\n",
        "    d,ud,vd=f(*f(d,ud,vd))\n",
        "    d%=p \n",
        "\n",
        "  v=vc-vd\n",
        "  u=ud-uc\n",
        "\n",
        "  d,x,y=rasshir_algorithm_Evklida(v,r)\n",
        "\n",
        "  while d!=1:\n",
        "    v/=d\n",
        "    u/=d\n",
        "    r/=d\n",
        "    d,x,y=rasshir_algorithm_Evklida(v,r)\n",
        "  \n",
        "  return x*u%r"
      ],
      "metadata": {
        "id": "F3vd3EmfQFlY"
      },
      "execution_count": 13,
      "outputs": []
    },
    {
      "cell_type": "code",
      "source": [
        "Pollard(107,10,53,64,2,2)"
      ],
      "metadata": {
        "colab": {
          "base_uri": "https://localhost:8080/"
        },
        "id": "ohSH4XJJR6bj",
        "outputId": "148578a5-6e2f-4d98-a530-dce5fae76767"
      },
      "execution_count": 14,
      "outputs": [
        {
          "output_type": "execute_result",
          "data": {
            "text/plain": [
              "20"
            ]
          },
          "metadata": {},
          "execution_count": 14
        }
      ]
    },
    {
      "cell_type": "code",
      "source": [
        ""
      ],
      "metadata": {
        "id": "8bFdKFCAQF5Y"
      },
      "execution_count": null,
      "outputs": []
    }
  ]
}