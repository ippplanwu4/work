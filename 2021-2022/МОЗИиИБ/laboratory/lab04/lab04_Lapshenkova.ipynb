{
  "nbformat": 4,
  "nbformat_minor": 0,
  "metadata": {
    "colab": {
      "name": "lab04_Lapshenkova.ipynb",
      "provenance": [],
      "collapsed_sections": []
    },
    "kernelspec": {
      "name": "python3",
      "display_name": "Python 3"
    },
    "language_info": {
      "name": "python"
    }
  },
  "cells": [
    {
      "cell_type": "code",
      "metadata": {
        "id": "qanY9B5s5TtW"
      },
      "source": [
        "#ввели числа для поиска НОДа\n",
        "a=27\n",
        "b=9"
      ],
      "execution_count": 1,
      "outputs": []
    },
    {
      "cell_type": "code",
      "metadata": {
        "colab": {
          "base_uri": "https://localhost:8080/"
        },
        "id": "MtjJ0oFr6LoH",
        "outputId": "24ba32b3-307b-4f20-a5ff-c99b1e5e86b8"
      },
      "source": [
        "#алгоритм Евклида\n",
        "def algorithm_Evklida(a,b):\n",
        "  '''\n",
        "  Расписываем пункты 1-4 для алгоритма Евклида\n",
        "  '''\n",
        "  r=[]\n",
        "  r.append(a)\n",
        "  r.append(b)\n",
        "  i=1\n",
        "  while r[i]!=0:\n",
        "    i+=1\n",
        "    r.append(r[i-2]%r[i-1])\n",
        "  d=r[i-1]\n",
        "  print('НОД(',a,',',b,')=',d)\n",
        "algorithm_Evklida(a,b)"
      ],
      "execution_count": 2,
      "outputs": [
        {
          "output_type": "stream",
          "name": "stdout",
          "text": [
            "НОД( 27 , 9 )= 9\n"
          ]
        }
      ]
    },
    {
      "cell_type": "code",
      "metadata": {
        "colab": {
          "base_uri": "https://localhost:8080/"
        },
        "id": "0gHk-kXh8EQQ",
        "outputId": "e170f26e-87ff-4e41-c537-a3c8c7835fe1"
      },
      "source": [
        "#бинарный алгоритм Евклида\n",
        "'''\n",
        "Выпишем два случая реализации программы для бинарного алгоритма Евклида\n",
        "'''\n",
        "#1 случай (с использованием алгоритма Евклида и ограничивающих условий)\n",
        "def bin1_algorithm_Evklida(a,b):\n",
        "  def NOD(a,b):\n",
        "    '''\n",
        "    Расписываем пункты 1-4 для алгоритма Евклида\n",
        "    '''\n",
        "    r=[]\n",
        "    r.append(a)\n",
        "    r.append(b)\n",
        "    i=1\n",
        "    while r[i]!=0:\n",
        "      i+=1\n",
        "      r.append(r[i-2]%r[i-1])\n",
        "    d=r[i-1]\n",
        "    return d\n",
        "  if ((b>0)and(a>=b)):\n",
        "    '''проверка на обязательное условие'''\n",
        "    if ((a%2==0)and(b%2==0)): \n",
        "      '''проверка на четность'''\n",
        "      print('НОД(',a,',',b,')=',2*NOD(a//2,b//2))\n",
        "    if ((a%2!=0)and(b%2==0)):\n",
        "      '''проверка на то, что а нечетное, а b четное'''\n",
        "      print('НОД(',a,',',b,')=',NOD(a,b//2))\n",
        "    if ((a%2!=0)and(b%2!=0)and(a>b)):\n",
        "      '''проверка на то, что оба нечетные'''\n",
        "      print('НОД(',a,',',b,')=',NOD(a-b,b))\n",
        "    if (a==b):\n",
        "      '''если числа равны друг другу'''\n",
        "      print('НОД(',a,',',b,')=',a)\n",
        "  else:\n",
        "    print('Перепроверьте входные данные! Должно быть: (0<b<=a)')\n",
        "bin1_algorithm_Evklida(a,b)"
      ],
      "execution_count": 3,
      "outputs": [
        {
          "output_type": "stream",
          "name": "stdout",
          "text": [
            "НОД( 27 , 9 )= 9\n"
          ]
        }
      ]
    },
    {
      "cell_type": "code",
      "metadata": {
        "colab": {
          "base_uri": "https://localhost:8080/"
        },
        "id": "M9y-7Asc-4rW",
        "outputId": "e8fcb574-03ff-4830-f198-d35f7ecbc63b"
      },
      "source": [
        "#бинарный алгоритм Евклида\n",
        "#2 случай (по алгоритму)\n",
        "def bin2_algorithm_Evklida(a,b):\n",
        "  '''\n",
        "  Выполняем пункты 1-6 по алгоритму\n",
        "  '''\n",
        "  g=1\n",
        "  u=a\n",
        "  v=b\n",
        "  while ((a%2==0)and(b%2==0)):\n",
        "    '''\n",
        "    пока четные выполнять до получения хотя бы одного нечетного\n",
        "    '''\n",
        "    a=a//2\n",
        "    b=b//2\n",
        "    g=2*g\n",
        "  while (u!=0):\n",
        "    '''\n",
        "    выполняем пункт 4 алгоритма\n",
        "    '''\n",
        "    if (u%2==0):\n",
        "      u=u//2\n",
        "    else:\n",
        "      u=u\n",
        "    if (v%2==0):\n",
        "      v=v//2\n",
        "    else:\n",
        "      v=v\n",
        "    if u>=v:\n",
        "      u=u-v\n",
        "    else:\n",
        "      v=v-u\n",
        "  d=g*v\n",
        "  return d\n",
        "if ((b>0)and(a>=b)):\n",
        "  print('НОД(',a,',',b,')=',bin2_algorithm_Evklida(a,b))\n",
        "else:\n",
        "  print('Перепроверьте входные данные! Должно быть: (0<b<=a)')"
      ],
      "execution_count": 4,
      "outputs": [
        {
          "output_type": "stream",
          "name": "stdout",
          "text": [
            "НОД( 27 , 9 )= 9\n"
          ]
        }
      ]
    },
    {
      "cell_type": "code",
      "metadata": {
        "colab": {
          "base_uri": "https://localhost:8080/"
        },
        "id": "DKu9b1ypAi-O",
        "outputId": "670be14d-7fbb-4b82-f81f-b270ae630aab"
      },
      "source": [
        "#расширенный алгоритм Евклида\n",
        "def rassh_algorithm_Evklida(a,b):\n",
        "  '''\n",
        "  выполняем пункты 1-4 по расширенному алгоритму Евклида\n",
        "  '''\n",
        "  #пункт 1\n",
        "  r=[]\n",
        "  x=[]\n",
        "  y=[]\n",
        "  r.append(a)\n",
        "  r.append(b)\n",
        "  x.append(1)\n",
        "  x.append(0)\n",
        "  y.append(0)\n",
        "  y.append(1)\n",
        "  i=1\n",
        "  while r[i]!=0:\n",
        "    '''\n",
        "    пункт 2\n",
        "    '''\n",
        "    i+=1\n",
        "    r.append(r[i-2]%r[i-1])\n",
        "    if r[i]==0:\n",
        "      '''\n",
        "      пункт 3\n",
        "      '''\n",
        "      d=r[i-1]\n",
        "      x=x[i-1]\n",
        "      y=y[i-1]\n",
        "    else:\n",
        "      x.append(x[i-2]-((r[i-2]//r[i-1])*x[i-1]))\n",
        "      y.append(y[i-2]-((r[i-2]//r[i-1])*y[i-1]))\n",
        "  return d,x,y\n",
        "if ((b>0)and(a>=b)):\n",
        "  print('НОД(',a,',',b,')=',rassh_algorithm_Evklida(a,b)[0])#тк три значения в return пишем индекс ответа, который нужен\n",
        "  print('x=',rassh_algorithm_Evklida(a,b)[1])#тк три значения в return пишем индекс ответа, который нужен\n",
        "  print('y=',rassh_algorithm_Evklida(a,b)[2])#тк три значения в return пишем индекс ответа, который нужен\n",
        "else:\n",
        "  print('Перепроверьте входные данные! Должно быть: (0<b<=a)')"
      ],
      "execution_count": 5,
      "outputs": [
        {
          "output_type": "stream",
          "name": "stdout",
          "text": [
            "НОД( 27 , 9 )= 9\n",
            "x= 0\n",
            "y= 1\n"
          ]
        }
      ]
    },
    {
      "cell_type": "code",
      "metadata": {
        "colab": {
          "base_uri": "https://localhost:8080/"
        },
        "id": "LpQaeu61DID7",
        "outputId": "59d294f6-63eb-4271-c3e8-ba94f42b78fe"
      },
      "source": [
        "#расширенный бинарный алгоритм Евклида\n",
        "def rassh_bin_algorithm_Evklida(a,b):\n",
        "  '''\n",
        "  6 пунктов алгоритма к выполнению\n",
        "  '''\n",
        "  g=1\n",
        "  u=a\n",
        "  v=b\n",
        "  A=1\n",
        "  B=0\n",
        "  C=0\n",
        "  D=1\n",
        "  while ((a%2==0)and(b%2==0)):\n",
        "    '''\n",
        "    пока четные выполнять до получения хотя бы одного нечетного\n",
        "    '''\n",
        "    a=a//2\n",
        "    b=b//2\n",
        "    g=2*g\n",
        "  '''\n",
        "  пока u не равно 0\n",
        "  '''\n",
        "  while (u!=0):\n",
        "    #пока u четное\n",
        "    if (u%2==0):\n",
        "      u=u//2\n",
        "      #если оба A и B четные\n",
        "      if ((A%2==0)and(B%2==0)):\n",
        "        A=A//2\n",
        "        B=B//2\n",
        "      else:\n",
        "        A=(A+b)//2\n",
        "        B=(B-a)//2\n",
        "    else:\n",
        "      u=u\n",
        "    #пока v четное\n",
        "    if (v%2==0):\n",
        "      v=v//2\n",
        "      #если оба C и D четные\n",
        "      if ((C%2==0)and(D%2==0)):\n",
        "        C=C//2\n",
        "        D=D//2  \n",
        "      else:\n",
        "        C=(C+b)//2\n",
        "        D=(D-a)//2 \n",
        "    else:\n",
        "      v=v\n",
        "\n",
        "    #пункт 4.3\n",
        "    if u>=v:\n",
        "      u=u-v\n",
        "      A=A-C\n",
        "      B=B-D\n",
        "    else:\n",
        "      v=v-u\n",
        "      C=C-A\n",
        "      D=D-B\n",
        "  #пункт 5\n",
        "  d=g*v\n",
        "  x=C\n",
        "  y=D\n",
        "  return d,x,y\n",
        "if ((b>0)and(a>=b)):\n",
        "  print('НОД(',a,',',b,')=',rassh_bin_algorithm_Evklida(a,b)[0])\n",
        "  print('x=',rassh_bin_algorithm_Evklida(a,b)[1])\n",
        "  print('y=',rassh_bin_algorithm_Evklida(a,b)[2])\n",
        "else:\n",
        "  print('Перепроверьте входные данные! Должно быть: (0<b<=a)')"
      ],
      "execution_count": 6,
      "outputs": [
        {
          "output_type": "stream",
          "name": "stdout",
          "text": [
            "НОД( 27 , 9 )= 9\n",
            "x= 0\n",
            "y= 1\n"
          ]
        }
      ]
    }
  ]
}