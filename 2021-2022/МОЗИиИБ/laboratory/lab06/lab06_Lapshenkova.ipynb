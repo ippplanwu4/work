{
  "nbformat": 4,
  "nbformat_minor": 0,
  "metadata": {
    "colab": {
      "name": "lab06_Lapshenkova.ipynb",
      "provenance": [],
      "collapsed_sections": []
    },
    "kernelspec": {
      "name": "python3",
      "display_name": "Python 3"
    },
    "language_info": {
      "name": "python"
    }
  },
  "cells": [
    {
      "cell_type": "code",
      "execution_count": 1,
      "metadata": {
        "id": "2snomU5__oW2"
      },
      "outputs": [],
      "source": [
        "n=1359331#ввели число n\n",
        "c=1#ввели начальное значение c"
      ]
    },
    {
      "cell_type": "code",
      "source": [
        "def f(x,n):\n",
        "  '''\n",
        "  ввод функции, обладающей сжимающими свойствами\n",
        "  '''\n",
        "  return (x**2+5)%n\n",
        "  \n",
        "def algorithm_Evklida(a,b):\n",
        "  '''\n",
        "  Расписываем пункты 1-4 для алгоритма Евклида\n",
        "  '''\n",
        "  r=[]\n",
        "  r.append(a)\n",
        "  r.append(b)\n",
        "  i=1\n",
        "  while r[i]!=0:\n",
        "    i+=1\n",
        "    r.append(r[i-2]%r[i-1])\n",
        "  d=r[i-1]\n",
        "  return d"
      ],
      "metadata": {
        "id": "hjOo7Xq1Adw_"
      },
      "execution_count": 3,
      "outputs": []
    },
    {
      "cell_type": "code",
      "source": [
        "def method_Pollarda(n,c):\n",
        "  #пункт 1\n",
        "  a=c\n",
        "  b=c\n",
        "  while True:\n",
        "    #пункт 2\n",
        "    a=f(a,n)%n\n",
        "    b=f(f(b,n),n)%n\n",
        "    #пункт 3\n",
        "    d=algorithm_Evklida(a-b,n)\n",
        "    #пункт 4\n",
        "    if 1<d<n:\n",
        "      p=d\n",
        "      return p\n",
        "    if d==n:\n",
        "      return 'Делитель не найден'\n",
        "method_Pollarda(n,c)\n",
        "\n"
      ],
      "metadata": {
        "colab": {
          "base_uri": "https://localhost:8080/"
        },
        "id": "1J32OdNLBDY1",
        "outputId": "a2cbe364-c9c3-4311-b195-e47cc08198c7"
      },
      "execution_count": 5,
      "outputs": [
        {
          "output_type": "execute_result",
          "data": {
            "text/plain": [
              "1181"
            ]
          },
          "metadata": {},
          "execution_count": 5
        }
      ]
    }
  ]
}